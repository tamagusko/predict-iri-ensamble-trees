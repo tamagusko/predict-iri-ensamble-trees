{
 "cells": [
  {
   "cell_type": "code",
   "execution_count": 1,
   "id": "7077040e",
   "metadata": {},
   "outputs": [],
   "source": [
    "# Author: Tiago Tamagusko (tamagusko@gmail.com)\n",
    "# Version: 3.0 (2023-09-16)"
   ]
  },
  {
   "cell_type": "code",
   "execution_count": 2,
   "id": "b3d5fe3f",
   "metadata": {},
   "outputs": [],
   "source": [
    "from sklearn.model_selection import train_test_split\n",
    "\n",
    "import pandas as pd\n",
    "import numpy as np"
   ]
  },
  {
   "cell_type": "code",
   "execution_count": 3,
   "id": "982ac84a",
   "metadata": {},
   "outputs": [],
   "source": [
    "# Data\n",
    "\n",
    "# Structure\n",
    "AGE = pd.read_csv('raw/age.csv')\n",
    "THICKNESS = pd.read_csv('raw/repr_thickness.csv')\n",
    "SN = pd.read_csv('raw/sn.csv') # structure number\n",
    "# Traffic\n",
    "AADTT = pd.read_csv('raw/aadtt.csv')\n",
    "# Climate\n",
    "PRECIPITATION = pd.read_csv('raw/precipitation.csv')\n",
    "TEMPERATURE = pd.read_csv('raw/temperature.csv')\n",
    "# Performance\n",
    "IRI = pd.read_csv('raw/iri.csv')"
   ]
  },
  {
   "cell_type": "code",
   "execution_count": 4,
   "id": "5f939965-4058-4947-b6f9-ca2010310cfd",
   "metadata": {},
   "outputs": [],
   "source": [
    "# Fixing column ' ' in PRECIPITATION dataset\n",
    "PRECIPITATION = PRECIPITATION.copy()\n",
    "PRECIPITATION.rename(columns={' ': 'STATE_CODE'}, inplace=True)"
   ]
  },
  {
   "cell_type": "code",
   "execution_count": 5,
   "id": "6ccbfd23-22d5-44f3-bbde-163d601e628b",
   "metadata": {},
   "outputs": [],
   "source": [
    "# Cleaning data\n",
    "AGE = AGE[['STATE_CODE', 'SHRP_ID', 'TRAFFIC_OPEN_DATE']]\n",
    "AGE['TRAFFIC_OPEN_DATE'] = pd.DatetimeIndex(AGE['TRAFFIC_OPEN_DATE']).year\n",
    "AGE['TRAFFIC_OPEN_DATE'] = AGE['TRAFFIC_OPEN_DATE'].astype(\"Int64\")\n",
    "THICKNESS = THICKNESS[['STATE_CODE', 'SHRP_ID', 'REPR_THICKNESS']]\n",
    "SN = SN[['STATE_CODE', 'SHRP_ID', 'SN_VALUE']]\n",
    "AADTT = AADTT[['STATE_CODE', 'SHRP_ID', 'YEAR', 'AADTT_ALL_TRUCKS_TREND']]\n",
    "PRECIPITATION = PRECIPITATION[['STATE_CODE', 'SHRP_ID', 'YEAR', 'TOTAL_ANN_PRECIP']]\n",
    "TEMPERATURE = TEMPERATURE[['STATE_CODE', 'SHRP_ID', 'YEAR', 'MEAN_ANN_TEMP_AVG']]\n",
    "IRI = IRI[['STATE_CODE', 'SHRP_ID', 'VISIT_DATE', 'MRI']]\n",
    "IRI['VISIT_DATE'] = pd.DatetimeIndex(IRI['VISIT_DATE']).year\n",
    "IRI.rename(columns={'VISIT_DATE': 'YEAR'}, inplace=True)"
   ]
  },
  {
   "cell_type": "code",
   "execution_count": 6,
   "id": "b4a81c78-5ecb-4d22-939d-79f974c31352",
   "metadata": {},
   "outputs": [],
   "source": [
    "average_IRI = IRI.groupby(['STATE_CODE', 'SHRP_ID', 'YEAR'])['MRI'].mean().reset_index()\n",
    "average_THICKNESS = THICKNESS.groupby(['STATE_CODE', 'SHRP_ID'])['REPR_THICKNESS'].mean().reset_index()"
   ]
  },
  {
   "cell_type": "code",
   "execution_count": 7,
   "id": "9df767d4-e577-4ea3-9065-8229eb496a57",
   "metadata": {},
   "outputs": [
    {
     "data": {
      "text/plain": [
       "(395, 10)"
      ]
     },
     "execution_count": 7,
     "metadata": {},
     "output_type": "execute_result"
    }
   ],
   "source": [
    "# Creating a unified dataset\n",
    "DATA = AADTT.copy()\n",
    "DATA = pd.merge(DATA, AGE, on=['SHRP_ID', 'STATE_CODE'], how='right')\n",
    "DATA = pd.merge(DATA, average_THICKNESS, on=['SHRP_ID', 'STATE_CODE'], how='right')\n",
    "DATA = pd.merge(DATA, SN, on=['SHRP_ID', 'STATE_CODE'], how='right')\n",
    "DATA = pd.merge(DATA, PRECIPITATION, on=['SHRP_ID', 'STATE_CODE', 'YEAR'], how='right')\n",
    "DATA = pd.merge(DATA, TEMPERATURE, on=['SHRP_ID', 'STATE_CODE', 'YEAR'], how='right')\n",
    "DATA = pd.merge(DATA, average_IRI, on=['SHRP_ID', 'STATE_CODE', 'YEAR'], how='right')\n",
    "DATA.shape"
   ]
  },
  {
   "cell_type": "code",
   "execution_count": 8,
   "id": "fe4d4cc6-09a2-4f57-9ef0-4d8da37b1aa6",
   "metadata": {},
   "outputs": [],
   "source": [
    "# STATION_ID = STATE_CODE _SHRP_ID\n",
    "DATA['STATION_ID'] = DATA['STATE_CODE'].astype(str) + \"_\" + DATA['SHRP_ID'].astype(str)\n",
    "DATA = DATA.drop(['STATE_CODE', 'SHRP_ID'], axis=1)"
   ]
  },
  {
   "cell_type": "code",
   "execution_count": 9,
   "id": "ce4efbf4",
   "metadata": {},
   "outputs": [],
   "source": [
    "# Sort dataset\n",
    "DATA = DATA.sort_values(['YEAR'], ascending=[True])"
   ]
  },
  {
   "cell_type": "code",
   "execution_count": 10,
   "id": "6e5fa897-cea9-4fb2-8c23-5b669521e523",
   "metadata": {},
   "outputs": [
    {
     "data": {
      "text/plain": [
       "Index(['YEAR', 'AADTT_ALL_TRUCKS_TREND', 'TRAFFIC_OPEN_DATE', 'REPR_THICKNESS',\n",
       "       'SN_VALUE', 'TOTAL_ANN_PRECIP', 'MEAN_ANN_TEMP_AVG', 'MRI',\n",
       "       'STATION_ID'],\n",
       "      dtype='object')"
      ]
     },
     "execution_count": 10,
     "metadata": {},
     "output_type": "execute_result"
    }
   ],
   "source": [
    "DATA.columns"
   ]
  },
  {
   "cell_type": "code",
   "execution_count": 11,
   "id": "10a1127b-ae4a-4976-a0dc-429ef202e109",
   "metadata": {},
   "outputs": [],
   "source": [
    "# Rename columns\n",
    "DATA = DATA.rename({'AADTT_ALL_TRUCKS_TREND': 'AADTT',\n",
    "                    'REPR_THICKNESS': 'THICKNESS',\n",
    "                    'SN_VALUE': 'SN',\n",
    "                    'MRI': 'IRI',\n",
    "                    'TOTAL_ANN_PRECIP': 'PRECIPITATION',\n",
    "                    'MEAN_ANN_TEMP_AVG': 'TEMPERATURE',\n",
    "                    }, axis=1)"
   ]
  },
  {
   "cell_type": "code",
   "execution_count": 12,
   "id": "60f1e0be",
   "metadata": {},
   "outputs": [
    {
     "data": {
      "text/html": [
       "<div>\n",
       "<style scoped>\n",
       "    .dataframe tbody tr th:only-of-type {\n",
       "        vertical-align: middle;\n",
       "    }\n",
       "\n",
       "    .dataframe tbody tr th {\n",
       "        vertical-align: top;\n",
       "    }\n",
       "\n",
       "    .dataframe thead th {\n",
       "        text-align: right;\n",
       "    }\n",
       "</style>\n",
       "<table border=\"1\" class=\"dataframe\">\n",
       "  <thead>\n",
       "    <tr style=\"text-align: right;\">\n",
       "      <th></th>\n",
       "      <th>YEAR</th>\n",
       "      <th>AADTT</th>\n",
       "      <th>TRAFFIC_OPEN_DATE</th>\n",
       "      <th>THICKNESS</th>\n",
       "      <th>SN</th>\n",
       "      <th>PRECIPITATION</th>\n",
       "      <th>TEMPERATURE</th>\n",
       "      <th>IRI</th>\n",
       "      <th>STATION_ID</th>\n",
       "    </tr>\n",
       "  </thead>\n",
       "  <tbody>\n",
       "    <tr>\n",
       "      <th>244</th>\n",
       "      <td>1989</td>\n",
       "      <td>1190.0</td>\n",
       "      <td>1985</td>\n",
       "      <td>140.566667</td>\n",
       "      <td>6.1</td>\n",
       "      <td>1372.800049</td>\n",
       "      <td>12.000000</td>\n",
       "      <td>0.8984</td>\n",
       "      <td>34_1638</td>\n",
       "    </tr>\n",
       "    <tr>\n",
       "      <th>136</th>\n",
       "      <td>1989</td>\n",
       "      <td>490.0</td>\n",
       "      <td>1985</td>\n",
       "      <td>261.600000</td>\n",
       "      <td>3.3</td>\n",
       "      <td>260.799988</td>\n",
       "      <td>6.100000</td>\n",
       "      <td>1.2738</td>\n",
       "      <td>16_1021</td>\n",
       "    </tr>\n",
       "    <tr>\n",
       "      <th>233</th>\n",
       "      <td>1989</td>\n",
       "      <td>151.0</td>\n",
       "      <td>1982</td>\n",
       "      <td>164.475000</td>\n",
       "      <td>4.3</td>\n",
       "      <td>634.200012</td>\n",
       "      <td>6.000000</td>\n",
       "      <td>1.0314</td>\n",
       "      <td>30_1001</td>\n",
       "    </tr>\n",
       "    <tr>\n",
       "      <th>277</th>\n",
       "      <td>1989</td>\n",
       "      <td>195.0</td>\n",
       "      <td>1984</td>\n",
       "      <td>110.500000</td>\n",
       "      <td>3.2</td>\n",
       "      <td>1546.099976</td>\n",
       "      <td>16.200001</td>\n",
       "      <td>1.0448</td>\n",
       "      <td>37_1030</td>\n",
       "    </tr>\n",
       "    <tr>\n",
       "      <th>166</th>\n",
       "      <td>1989</td>\n",
       "      <td>1690.0</td>\n",
       "      <td>1985</td>\n",
       "      <td>268.600000</td>\n",
       "      <td>8.3</td>\n",
       "      <td>1125.199951</td>\n",
       "      <td>7.200000</td>\n",
       "      <td>0.7238</td>\n",
       "      <td>23_1012</td>\n",
       "    </tr>\n",
       "  </tbody>\n",
       "</table>\n",
       "</div>"
      ],
      "text/plain": [
       "     YEAR   AADTT  TRAFFIC_OPEN_DATE   THICKNESS   SN  PRECIPITATION  \\\n",
       "244  1989  1190.0               1985  140.566667  6.1    1372.800049   \n",
       "136  1989   490.0               1985  261.600000  3.3     260.799988   \n",
       "233  1989   151.0               1982  164.475000  4.3     634.200012   \n",
       "277  1989   195.0               1984  110.500000  3.2    1546.099976   \n",
       "166  1989  1690.0               1985  268.600000  8.3    1125.199951   \n",
       "\n",
       "     TEMPERATURE     IRI STATION_ID  \n",
       "244    12.000000  0.8984    34_1638  \n",
       "136     6.100000  1.2738    16_1021  \n",
       "233     6.000000  1.0314    30_1001  \n",
       "277    16.200001  1.0448    37_1030  \n",
       "166     7.200000  0.7238    23_1012  "
      ]
     },
     "execution_count": 12,
     "metadata": {},
     "output_type": "execute_result"
    }
   ],
   "source": [
    "DATA.head()"
   ]
  },
  {
   "cell_type": "code",
   "execution_count": 13,
   "id": "add8a8eb",
   "metadata": {},
   "outputs": [
    {
     "data": {
      "text/html": [
       "<div>\n",
       "<style scoped>\n",
       "    .dataframe tbody tr th:only-of-type {\n",
       "        vertical-align: middle;\n",
       "    }\n",
       "\n",
       "    .dataframe tbody tr th {\n",
       "        vertical-align: top;\n",
       "    }\n",
       "\n",
       "    .dataframe thead th {\n",
       "        text-align: right;\n",
       "    }\n",
       "</style>\n",
       "<table border=\"1\" class=\"dataframe\">\n",
       "  <thead>\n",
       "    <tr style=\"text-align: right;\">\n",
       "      <th></th>\n",
       "      <th>count</th>\n",
       "      <th>mean</th>\n",
       "      <th>std</th>\n",
       "      <th>min</th>\n",
       "      <th>25%</th>\n",
       "      <th>50%</th>\n",
       "      <th>75%</th>\n",
       "      <th>max</th>\n",
       "    </tr>\n",
       "  </thead>\n",
       "  <tbody>\n",
       "    <tr>\n",
       "      <th>YEAR</th>\n",
       "      <td>395.0</td>\n",
       "      <td>1995.612658</td>\n",
       "      <td>4.974998</td>\n",
       "      <td>1989.0</td>\n",
       "      <td>1992.0</td>\n",
       "      <td>1994.0</td>\n",
       "      <td>1999.0</td>\n",
       "      <td>2016.0</td>\n",
       "    </tr>\n",
       "    <tr>\n",
       "      <th>AADTT</th>\n",
       "      <td>395.0</td>\n",
       "      <td>471.632911</td>\n",
       "      <td>539.745625</td>\n",
       "      <td>11.0</td>\n",
       "      <td>156.0</td>\n",
       "      <td>278.0</td>\n",
       "      <td>536.0</td>\n",
       "      <td>3126.0</td>\n",
       "    </tr>\n",
       "    <tr>\n",
       "      <th>TRAFFIC_OPEN_DATE</th>\n",
       "      <td>395.0</td>\n",
       "      <td>1980.321519</td>\n",
       "      <td>5.449856</td>\n",
       "      <td>1970.0</td>\n",
       "      <td>1975.0</td>\n",
       "      <td>1983.0</td>\n",
       "      <td>1984.0</td>\n",
       "      <td>1989.0</td>\n",
       "    </tr>\n",
       "    <tr>\n",
       "      <th>THICKNESS</th>\n",
       "      <td>395.0</td>\n",
       "      <td>230.405278</td>\n",
       "      <td>212.553605</td>\n",
       "      <td>64.45</td>\n",
       "      <td>109.225</td>\n",
       "      <td>163.825</td>\n",
       "      <td>261.6</td>\n",
       "      <td>1177.06</td>\n",
       "    </tr>\n",
       "    <tr>\n",
       "      <th>SN</th>\n",
       "      <td>395.0</td>\n",
       "      <td>4.627089</td>\n",
       "      <td>1.554672</td>\n",
       "      <td>2.0</td>\n",
       "      <td>3.6</td>\n",
       "      <td>4.2</td>\n",
       "      <td>5.7</td>\n",
       "      <td>8.3</td>\n",
       "    </tr>\n",
       "    <tr>\n",
       "      <th>PRECIPITATION</th>\n",
       "      <td>395.0</td>\n",
       "      <td>1006.025572</td>\n",
       "      <td>471.496033</td>\n",
       "      <td>92.199997</td>\n",
       "      <td>631.899994</td>\n",
       "      <td>1059.800049</td>\n",
       "      <td>1363.850036</td>\n",
       "      <td>2091.0</td>\n",
       "    </tr>\n",
       "    <tr>\n",
       "      <th>TEMPERATURE</th>\n",
       "      <td>395.0</td>\n",
       "      <td>14.613418</td>\n",
       "      <td>6.046667</td>\n",
       "      <td>2.7</td>\n",
       "      <td>8.5</td>\n",
       "      <td>15.8</td>\n",
       "      <td>18.299999</td>\n",
       "      <td>25.9</td>\n",
       "    </tr>\n",
       "    <tr>\n",
       "      <th>IRI</th>\n",
       "      <td>395.0</td>\n",
       "      <td>1.370352</td>\n",
       "      <td>0.598253</td>\n",
       "      <td>0.6208</td>\n",
       "      <td>0.9203</td>\n",
       "      <td>1.176</td>\n",
       "      <td>1.6814</td>\n",
       "      <td>4.0048</td>\n",
       "    </tr>\n",
       "  </tbody>\n",
       "</table>\n",
       "</div>"
      ],
      "text/plain": [
       "                   count         mean         std        min         25%  \\\n",
       "YEAR               395.0  1995.612658    4.974998     1989.0      1992.0   \n",
       "AADTT              395.0   471.632911  539.745625       11.0       156.0   \n",
       "TRAFFIC_OPEN_DATE  395.0  1980.321519    5.449856     1970.0      1975.0   \n",
       "THICKNESS          395.0   230.405278  212.553605      64.45     109.225   \n",
       "SN                 395.0     4.627089    1.554672        2.0         3.6   \n",
       "PRECIPITATION      395.0  1006.025572  471.496033  92.199997  631.899994   \n",
       "TEMPERATURE        395.0    14.613418    6.046667        2.7         8.5   \n",
       "IRI                395.0     1.370352    0.598253     0.6208      0.9203   \n",
       "\n",
       "                           50%          75%      max  \n",
       "YEAR                    1994.0       1999.0   2016.0  \n",
       "AADTT                    278.0        536.0   3126.0  \n",
       "TRAFFIC_OPEN_DATE       1983.0       1984.0   1989.0  \n",
       "THICKNESS              163.825        261.6  1177.06  \n",
       "SN                         4.2          5.7      8.3  \n",
       "PRECIPITATION      1059.800049  1363.850036   2091.0  \n",
       "TEMPERATURE               15.8    18.299999     25.9  \n",
       "IRI                      1.176       1.6814   4.0048  "
      ]
     },
     "execution_count": 13,
     "metadata": {},
     "output_type": "execute_result"
    }
   ],
   "source": [
    "DATA.describe().T"
   ]
  },
  {
   "cell_type": "code",
   "execution_count": 14,
   "id": "adc499d6",
   "metadata": {},
   "outputs": [
    {
     "name": "stdout",
     "output_type": "stream",
     "text": [
      "<class 'pandas.core.frame.DataFrame'>\n",
      "Int64Index: 395 entries, 244 to 220\n",
      "Data columns (total 9 columns):\n",
      " #   Column             Non-Null Count  Dtype  \n",
      "---  ------             --------------  -----  \n",
      " 0   YEAR               395 non-null    int64  \n",
      " 1   AADTT              395 non-null    float64\n",
      " 2   TRAFFIC_OPEN_DATE  395 non-null    Int64  \n",
      " 3   THICKNESS          395 non-null    float64\n",
      " 4   SN                 395 non-null    float64\n",
      " 5   PRECIPITATION      395 non-null    float64\n",
      " 6   TEMPERATURE        395 non-null    float64\n",
      " 7   IRI                395 non-null    float64\n",
      " 8   STATION_ID         395 non-null    object \n",
      "dtypes: Int64(1), float64(6), int64(1), object(1)\n",
      "memory usage: 31.2+ KB\n"
     ]
    }
   ],
   "source": [
    "# verify data\n",
    "DATA.info()"
   ]
  },
  {
   "cell_type": "code",
   "execution_count": 15,
   "id": "65944295",
   "metadata": {},
   "outputs": [],
   "source": [
    "# Save data\n",
    "DATA.to_csv('processed/ltpp_data.csv', index=None, header=True)"
   ]
  }
 ],
 "metadata": {
  "kernelspec": {
   "display_name": "Python 3 (ipykernel)",
   "language": "python",
   "name": "python3"
  },
  "language_info": {
   "codemirror_mode": {
    "name": "ipython",
    "version": 3
   },
   "file_extension": ".py",
   "mimetype": "text/x-python",
   "name": "python",
   "nbconvert_exporter": "python",
   "pygments_lexer": "ipython3",
   "version": "3.11.5"
  }
 },
 "nbformat": 4,
 "nbformat_minor": 5
}
